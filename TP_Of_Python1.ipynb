{
 "cells": [
  {
   "cell_type": "code",
   "execution_count": 9,
   "id": "3c2c6e19-3a40-4352-9389-1304fd19a77d",
   "metadata": {},
   "outputs": [
    {
     "name": "stdin",
     "output_type": "stream",
     "text": [
      "Enter your name Jacques\n"
     ]
    },
    {
     "name": "stdout",
     "output_type": "stream",
     "text": [
      " Bienvenur Jacques!\n"
     ]
    }
   ],
   "source": [
    "# EXERCISE 1\n",
    "\n",
    "def salutation(name):\n",
    "    return print(f\" Bienvenur {nom}!\")\n",
    "\n",
    "nom = input(\"Enter your name\")\n",
    "\n",
    "salutation(nom)\n",
    "    "
   ]
  },
  {
   "cell_type": "code",
   "execution_count": 11,
   "id": "427276fb-14fd-4631-8378-8c782901aed2",
   "metadata": {},
   "outputs": [
    {
     "name": "stdin",
     "output_type": "stream",
     "text": [
      "Enter your number 1 6\n",
      "Enter your number 2 8\n"
     ]
    },
    {
     "data": {
      "text/plain": [
       "14"
      ]
     },
     "execution_count": 11,
     "metadata": {},
     "output_type": "execute_result"
    }
   ],
   "source": [
    "# EXERCISE 2\n",
    "\n",
    "def addition(a, b):\n",
    "    return a+b\n",
    "a = int(input(\"Enter your number 1\"))\n",
    "b = int(input(\"Enter your number 2\"))\n",
    "\n",
    "addition(a, b)\n",
    "\n"
   ]
  },
  {
   "cell_type": "code",
   "execution_count": 15,
   "id": "c8f9c222-70ad-4b7b-876b-24cd3b773682",
   "metadata": {},
   "outputs": [
    {
     "name": "stdin",
     "output_type": "stream",
     "text": [
      "Enter your number 1 8\n",
      "Enter your number 2 5\n"
     ]
    },
    {
     "data": {
      "text/plain": [
       "8"
      ]
     },
     "execution_count": 15,
     "metadata": {},
     "output_type": "execute_result"
    }
   ],
   "source": [
    "# EXERCISE 3\n",
    "\n",
    "def max(a,b):\n",
    "    if a>b or a == b:\n",
    "        return a\n",
    "    else:\n",
    "        return b\n",
    "        \n",
    "a = int(input(\"Enter your number 1\"))\n",
    "b = int(input(\"Enter your number 2\"))\n",
    "\n",
    "max(a,b)\n"
   ]
  },
  {
   "cell_type": "code",
   "execution_count": 31,
   "id": "fac7dbef-f597-429c-a719-2d1d0a03e534",
   "metadata": {},
   "outputs": [
    {
     "name": "stdout",
     "output_type": "stream",
     "text": [
      " :  1\n",
      " :  2\n",
      " :  3\n",
      " :  4\n",
      " :  5\n",
      " :  6\n",
      " :  7\n",
      " :  8\n",
      " :  9\n",
      " :  10\n",
      " :  11\n",
      " :  12\n",
      " :  13\n",
      " :  14\n",
      " :  15\n",
      " :  16\n",
      " :  17\n",
      " :  18\n",
      " :  19\n",
      " :  20\n",
      " :  21\n",
      " :  22\n",
      " :  23\n",
      " :  24\n",
      " :  25\n",
      " :  26\n",
      " :  27\n",
      " :  28\n",
      " :  29\n",
      " :  30\n",
      " :  31\n",
      " :  32\n",
      " :  33\n",
      " :  34\n",
      " :  35\n",
      " :  36\n",
      " :  37\n",
      " :  38\n",
      " :  39\n",
      " :  40\n",
      " :  41\n",
      " :  42\n",
      " :  43\n",
      " :  44\n",
      " :  45\n",
      " :  46\n",
      " :  47\n",
      " :  48\n",
      " :  49\n",
      " :  50\n",
      " :  51\n",
      " :  52\n",
      " :  53\n",
      " :  54\n",
      " :  55\n",
      " :  56\n",
      " :  57\n",
      " :  58\n",
      " :  59\n",
      " :  60\n",
      " :  61\n",
      " :  62\n",
      " :  63\n",
      " :  64\n",
      " :  65\n",
      " :  66\n",
      " :  67\n",
      " :  68\n",
      " :  69\n",
      " :  70\n",
      " :  71\n",
      " :  72\n",
      " :  73\n",
      " :  74\n",
      " :  75\n",
      " :  76\n",
      " :  77\n",
      " :  78\n",
      " :  79\n",
      " :  80\n",
      " :  81\n",
      " :  82\n",
      " :  83\n",
      " :  84\n",
      " :  85\n",
      " :  86\n",
      " :  87\n",
      " :  88\n",
      " :  89\n",
      " :  90\n",
      " :  91\n",
      " :  92\n",
      " :  93\n",
      " :  94\n",
      " :  95\n",
      " :  96\n",
      " :  97\n",
      " :  98\n",
      " :  99\n",
      " :  100\n"
     ]
    }
   ],
   "source": [
    "# EXERCISE 4\n",
    "\n",
    "i=1\n",
    "for i in range(1,101):\n",
    "    print(f\" :  {i}\")"
   ]
  },
  {
   "cell_type": "code",
   "execution_count": 43,
   "id": "8216d833-3538-4ff1-9402-fa5f830fdbf8",
   "metadata": {},
   "outputs": [
    {
     "name": "stdin",
     "output_type": "stream",
     "text": [
      "Enter your number 199292\n"
     ]
    },
    {
     "name": "stdout",
     "output_type": "stream",
     "text": [
      "The number 199292 is Even\n"
     ]
    }
   ],
   "source": [
    "# EXERCISE 5\n",
    "\n",
    "def Even_Odd(a):\n",
    "    if a%2!=0:\n",
    "        return print(f\"The number {a} is Odd\")\n",
    "    else:\n",
    "        return print(f\"The number {a} is Even\")\n",
    "\n",
    "a = int(input(\"Enter your number\"))\n",
    "\n",
    "Even_Odd(a)"
   ]
  },
  {
   "cell_type": "code",
   "execution_count": 45,
   "id": "1db55cf7-4f76-4b82-97f3-9d26e6cb8df6",
   "metadata": {},
   "outputs": [
    {
     "name": "stdin",
     "output_type": "stream",
     "text": [
      "Enter your age:  19\n"
     ]
    },
    {
     "name": "stdout",
     "output_type": "stream",
     "text": [
      "you are an Adult\n"
     ]
    }
   ],
   "source": [
    "# EXERCISE 6\n",
    "\n",
    "def verification(age):\n",
    "    if age>=18:\n",
    "        return print(\"you are an Adult\")\n",
    "    else:\n",
    "        return print(\"you are a Minor\")\n",
    "\n",
    "age = int(input(\"Enter your age: \"))\n",
    "verification(age)\n"
   ]
  },
  {
   "cell_type": "code",
   "execution_count": 47,
   "id": "8176732c-135d-4fe9-9b58-73ad1b9a7b6e",
   "metadata": {},
   "outputs": [
    {
     "name": "stdin",
     "output_type": "stream",
     "text": [
      "enter your number 1:  3\n",
      "enter your number 2:  4\n",
      "enter your number 3:  5\n"
     ]
    },
    {
     "name": "stdout",
     "output_type": "stream",
     "text": [
      " : 5 is the highest! \n"
     ]
    }
   ],
   "source": [
    "# EXERCISE 7\n",
    "\n",
    "def max(x,y,z):\n",
    "    if x>y and x>z:\n",
    "        return print(f\" : {x} is the highest! \")\n",
    "    elif y>x and y>z:\n",
    "        return print(f\" : {y} is the highest! \")\n",
    "    else:\n",
    "        return print(f\" : {z} is the highest! \")\n",
    "\n",
    "number1 = int(input(\"enter your number 1: \"))\n",
    "number2 = int(input(\"enter your number 2: \"))\n",
    "number3 = int(input(\"enter your number 3: \"))\n",
    "\n",
    "max(number1,number2,number3)\n",
    "\n",
    "\n",
    "        "
   ]
  },
  {
   "cell_type": "code",
   "execution_count": 59,
   "id": "56026b45-84b7-46a5-bb7f-2a054d4d65c8",
   "metadata": {},
   "outputs": [
    {
     "name": "stdin",
     "output_type": "stream",
     "text": [
      "Enter a number :   10\n"
     ]
    },
    {
     "data": {
      "text/plain": [
       "55"
      ]
     },
     "execution_count": 59,
     "metadata": {},
     "output_type": "execute_result"
    }
   ],
   "source": [
    "# EXERCISE 8\n",
    "\n",
    "def sum(number):\n",
    "    if number == 0:\n",
    "        return 0\n",
    "    else:\n",
    "        return number+sum(number-1)\n",
    "\n",
    "a=int(input(\"Enter a number :  \"))\n",
    "sum(a)"
   ]
  },
  {
   "cell_type": "code",
   "execution_count": 63,
   "id": "841eb675-6328-4ef4-a2c2-4b5f1c6159fe",
   "metadata": {},
   "outputs": [
    {
     "name": "stdin",
     "output_type": "stream",
     "text": [
      "Enter a number :   5\n"
     ]
    },
    {
     "data": {
      "text/plain": [
       "120"
      ]
     },
     "execution_count": 63,
     "metadata": {},
     "output_type": "execute_result"
    }
   ],
   "source": [
    "#EXERCISE 9\n",
    "\n",
    "def sum(number):\n",
    "    if number == 0:\n",
    "        return 1\n",
    "    else:\n",
    "        return number*sum(number-1)\n",
    "\n",
    "a=int(input(\"Enter a number :  \"))\n",
    "sum(a)"
   ]
  },
  {
   "cell_type": "code",
   "execution_count": 3,
   "id": "39618546-f921-448b-9315-23b834a9f51b",
   "metadata": {},
   "outputs": [
    {
     "name": "stdin",
     "output_type": "stream",
     "text": [
      "Enter a number :   5\n"
     ]
    },
    {
     "name": "stdout",
     "output_type": "stream",
     "text": [
      "La surface: 78.5\n",
      "Le perimetre: 31.400000000000002\n"
     ]
    }
   ],
   "source": [
    "#EXERCISE 10\n",
    "\n",
    "def forme(rayon):\n",
    "    surface = float(3.14*rayon*rayon)\n",
    "    perimetre = float(2*3.14*rayon) \n",
    "    print(f\"La surface: {surface}\")\n",
    "    print(f\"Le perimetre: {perimetre}\")\n",
    "\n",
    "a=int(input(\"Enter a number :  \"))\n",
    "\n",
    "forme(a)"
   ]
  },
  {
   "cell_type": "code",
   "execution_count": 5,
   "id": "a3931c30-ff4c-4ba9-a5ca-b7dbbea12fcf",
   "metadata": {},
   "outputs": [
    {
     "name": "stdin",
     "output_type": "stream",
     "text": [
      "Enter a number :   7\n"
     ]
    },
    {
     "name": "stdout",
     "output_type": "stream",
     "text": [
      ":  1\n",
      ":  7\n"
     ]
    }
   ],
   "source": [
    "#EXERCISE 11\n",
    "\n",
    "def diviseurs(nombre):\n",
    "    i=1\n",
    "    sum=0\n",
    "    while i<=nombre :\n",
    "        if(nombre%i == 0):\n",
    "            print(\": \", i)\n",
    "        i+=1\n",
    "\n",
    "a=int(input(\"Enter a number :  \"))\n",
    "\n",
    "diviseurs(a)"
   ]
  },
  {
   "cell_type": "code",
   "execution_count": null,
   "id": "2e5d9d83-90c2-43fc-aae5-59ec4ad3f832",
   "metadata": {},
   "outputs": [],
   "source": [
    "# EXERCISE 12\n",
    "\n",
    "def multiplication19()\n",
    "    i=1\n",
    "    j=1\n",
    "    while i<=9:\n",
    "        while j<=12:\n",
    "            print(f\" : {i} x {j} = {i*j}\")\n",
    "            j+=1\n",
    "        i+=1\n",
    "\n",
    "def multiplication(n):\n",
    "    i=1\n",
    "    for i in range(1,13):\n",
    "        print(f\" : {n} x {i} = {n*i}\")\n",
    "\n",
    "    \n",
    "a=int(input(\"Enter a number :  \"))\n",
    "\n",
    "multiplication(a)"
   ]
  },
  {
   "cell_type": "code",
   "execution_count": 7,
   "id": "a97a78e1-d89d-43d3-8b41-e8fb4797e5c1",
   "metadata": {},
   "outputs": [
    {
     "name": "stdin",
     "output_type": "stream",
     "text": [
      "Enter a number :   5\n",
      "Enter a number :   2\n"
     ]
    },
    {
     "name": "stdout",
     "output_type": "stream",
     "text": [
      " the Quotient: 2.0\n",
      " the Remainder: 1\n"
     ]
    }
   ],
   "source": [
    "# EXERCISE 13\n",
    "\n",
    "def Q_R(a, b):\n",
    "    r = a%b\n",
    "    q = (a-r)/b\n",
    "    \n",
    "    print(f\" the Quotient: {q}\")\n",
    "    print(f\" the Remainder: {r}\")\n",
    "\n",
    "a=int(input(\"Enter a number :  \"))\n",
    "b=int(input(\"Enter a number :  \"))\n",
    "Q_R(a,b)"
   ]
  },
  {
   "cell_type": "code",
   "execution_count": 27,
   "id": "1afba13d-5947-461c-a0df-f6cec5bc15b9",
   "metadata": {},
   "outputs": [
    {
     "name": "stdin",
     "output_type": "stream",
     "text": [
      "Enter a number :   25\n"
     ]
    }
   ],
   "source": [
    "# EXERCISE 14\n",
    "\n",
    "import math as math\n",
    "\n",
    "def care_parfait(n):\n",
    "    if (type(math.sqrt(n)) == int):\n",
    "        print(f\" :{n} est un carre parfait !\")\n",
    "\n",
    "a=int(input(\"Enter a number :  \"))\n",
    "\n",
    "care_parfait(a)"
   ]
  },
  {
   "cell_type": "code",
   "execution_count": 37,
   "id": "df8ffd1c-0fe8-4cd8-b486-53a5f27cca23",
   "metadata": {},
   "outputs": [
    {
     "name": "stdin",
     "output_type": "stream",
     "text": [
      "Enter a number :   7\n"
     ]
    },
    {
     "name": "stdout",
     "output_type": "stream",
     "text": [
      " : 7 est un nombre premier !\n"
     ]
    }
   ],
   "source": [
    "# EXERCISE 15\n",
    "\n",
    "def premier(n):\n",
    "    i=1\n",
    "    sum=0\n",
    "    while i<=n:\n",
    "        if(n%i == 0):\n",
    "            sum+=1\n",
    "        i+=1\n",
    "    return sum\n",
    "\n",
    "a=int(input(\"Enter a number :  \"))\n",
    "\n",
    "r = premier(a)\n",
    "if r == 2:\n",
    "    print(f\" : {a} est un nombre premier !\")\n",
    "else:\n",
    "    print(f\" : {a} n'est pas un nombre premier !\")\n",
    "    \n"
   ]
  },
  {
   "cell_type": "code",
   "execution_count": 41,
   "id": "fd0f21ad-ed24-4b31-870c-86bace22cf4c",
   "metadata": {},
   "outputs": [
    {
     "name": "stdin",
     "output_type": "stream",
     "text": [
      " Enter your word :   Python\n"
     ]
    },
    {
     "name": "stdout",
     "output_type": "stream",
     "text": [
      "P\n",
      "y\n",
      "t\n",
      "h\n",
      "o\n",
      "n\n"
     ]
    }
   ],
   "source": [
    "#EXERCISE 16\n",
    "\n",
    "def letters(n):\n",
    "    for letters in n:\n",
    "        print(letters)\n",
    "\n",
    "a = input(\" Enter your word :  \")\n",
    "\n",
    "letters(a)"
   ]
  },
  {
   "cell_type": "code",
   "execution_count": 105,
   "id": "7593ae9f-077d-4cdc-ba0a-9c325a9dec12",
   "metadata": {},
   "outputs": [
    {
     "name": "stdin",
     "output_type": "stream",
     "text": [
      " Enter your word :   yoo\n"
     ]
    },
    {
     "name": "stdout",
     "output_type": "stream",
     "text": [
      "Le caractere : 'y' figure 1 fois dans la chaines !\n",
      "Le caractere : 'o' figure 2 fois dans la chaines !\n"
     ]
    }
   ],
   "source": [
    "#EXERCISE 17\n",
    "\n",
    "def occurence(n):\n",
    "    \n",
    "    for letter in n:\n",
    "        print(f\"Le caractere : '{letter}' figure {n.count(letter)} fois dans la chaines !\")\n",
    "        if(n.count(letter) > 1):\n",
    "            break\n",
    "        \n",
    "\n",
    "a = input(\" Enter your word :  \")\n",
    "\n",
    "occurence(a)"
   ]
  },
  {
   "cell_type": "code",
   "execution_count": 115,
   "id": "918106d1-4406-4268-b96c-6ab08d6f031d",
   "metadata": {},
   "outputs": [
    {
     "name": "stdin",
     "output_type": "stream",
     "text": [
      " Enter your word :   language\n"
     ]
    },
    {
     "name": "stdout",
     "output_type": "stream",
     "text": [
      "la lettre 'a' se trouve a la 5\n"
     ]
    }
   ],
   "source": [
    "#EXERCISE 18\n",
    "\n",
    "def trouver(n):\n",
    "    if n.find(\"a\") == True:\n",
    "        print(f\"la lettre 'a' se trouve a la {n.rfind(\"a\")}\")\n",
    "\n",
    "a = input(\" Enter your word :  \")\n",
    "\n",
    "trouver(a)\n"
   ]
  },
  {
   "cell_type": "code",
   "execution_count": 119,
   "id": "a372ee01-f680-48cd-bb5e-9935f7db6ec4",
   "metadata": {},
   "outputs": [
    {
     "name": "stdout",
     "output_type": "stream",
     "text": [
      "laptop has 6 letters !\n",
      "iphone has 6 letters !\n",
      "tablet has 6 letters !\n"
     ]
    }
   ],
   "source": [
    "#EXERCISE 19\n",
    "\n",
    "l = [\"laptop\", \"iphone\", \"tablet\"]\n",
    "\n",
    "for i in l :\n",
    "    print(f\"{i} has {len(i)} letters !\")"
   ]
  },
  {
   "cell_type": "code",
   "execution_count": 121,
   "id": "fd89c2f4-b070-4044-84ce-e0e97dc993a9",
   "metadata": {},
   "outputs": [
    {
     "name": "stdout",
     "output_type": "stream",
     "text": [
      "tablet\n",
      "iphone\n",
      "laptop\n"
     ]
    }
   ],
   "source": [
    "#EXERCISE 20\n",
    "\n",
    "l = [\"laptop\", \"iphone\", \"tablet\"]\n",
    "l.reverse()\n",
    "\n",
    "for i in l:\n",
    "    print(i)\n"
   ]
  },
  {
   "cell_type": "code",
   "execution_count": 30,
   "id": "5b503fb3-1f1b-4b75-9359-0d05be38aeab",
   "metadata": {},
   "outputs": [
    {
     "name": "stdout",
     "output_type": "stream",
     "text": [
      "The word anticonstitutionellement has 10 vowel\n"
     ]
    }
   ],
   "source": [
    "#EXERCISE 21\n",
    "\n",
    "voyelle = ['a','e','i','o','u','y']\n",
    "\n",
    "#a = \"anticonstitutionellement\"\n",
    "\n",
    "def vowel_count(s):\n",
    "    sum = 0\n",
    "    vowel = \"aeiouAEIOU\"\n",
    "    for char in s:\n",
    "        if char in vowel:\n",
    "            sum += 1\n",
    "    return sum\n",
    "    \n",
    "#a = input(\"Enter your word:\\t\")\n",
    "a=\"anticonstitutionellement\"\n",
    "ans = vowel_count(a)\n",
    "\n",
    "print(f\"The word {a} has {ans} vowel\")\n",
    "\n",
    "\n",
    "\n",
    "\n",
    "\n"
   ]
  },
  {
   "cell_type": "code",
   "execution_count": 36,
   "id": "81063042-1986-4018-8a14-716e6cf13c20",
   "metadata": {},
   "outputs": [
    {
     "data": {
      "text/plain": [
       "'is'"
      ]
     },
     "execution_count": 36,
     "metadata": {},
     "output_type": "execute_result"
    }
   ],
   "source": [
    "#EXERCISE 22\n",
    "\n",
    "text = \"Python is great! \"\n",
    "\n",
    "def first_word(text):\n",
    "    word = text.split()\n",
    "    if word:\n",
    "        return word[0]\n",
    "\n",
    "first_word(text)\n"
   ]
  },
  {
   "cell_type": "code",
   "execution_count": 50,
   "id": "44e6dfaf-5cc1-4a1b-8339-9a642ede931b",
   "metadata": {},
   "outputs": [
    {
     "name": "stdin",
     "output_type": "stream",
     "text": [
      "enter the name of the file:\t yoo\n"
     ]
    },
    {
     "data": {
      "text/plain": [
       "'there is no extension'"
      ]
     },
     "execution_count": 50,
     "metadata": {},
     "output_type": "execute_result"
    }
   ],
   "source": [
    "#EXERCISE 23\n",
    "\n",
    "def extension(filename):\n",
    "    location = filename.rfind('.')\n",
    "    if location != -1:\n",
    "        extension = filename[location + 1:]\n",
    "    else:\n",
    "        extension = \"there is no extension\"\n",
    "        \n",
    "    return extension\n",
    "\n",
    "a = input(\"enter the name of the file:\\t\")\n",
    "extension(a)"
   ]
  },
  {
   "cell_type": "code",
   "execution_count": 113,
   "id": "a364b209-dce7-4ec5-bd0a-f2f20e4828a4",
   "metadata": {},
   "outputs": [
    {
     "name": "stdin",
     "output_type": "stream",
     "text": [
      "Enter your word:  laval\n"
     ]
    },
    {
     "name": "stdout",
     "output_type": "stream",
     "text": [
      "l.a.v.a.l\n"
     ]
    }
   ],
   "source": [
    "#EXERCISE 24\n",
    "\n",
    "# def palindrome():\n",
    "word = input(\"Enter your word: \")\n",
    "s = '.'.join(reversed(word))\n",
    "print(s)\n",
    "\n",
    "# palindrome()\n"
   ]
  },
  {
   "cell_type": "code",
   "execution_count": 117,
   "id": "ae3a0621-27f5-4524-9ff2-1356298c2cb6",
   "metadata": {},
   "outputs": [
    {
     "name": "stdin",
     "output_type": "stream",
     "text": [
      "Enter your word:  Python\n"
     ]
    },
    {
     "name": "stdout",
     "output_type": "stream",
     "text": [
      "nohtyP\n"
     ]
    }
   ],
   "source": [
    "#EXERCISE 25\n",
    "\n",
    "word = input(\"Enter your word: \")\n",
    "s = ''.join(reversed(word))\n",
    "print(s)"
   ]
  },
  {
   "cell_type": "code",
   "execution_count": 121,
   "id": "aaf303d0-c443-4710-8ca7-af4313f82ac4",
   "metadata": {},
   "outputs": [
    {
     "name": "stdout",
     "output_type": "stream",
     "text": [
      "avengers\n",
      "avait\n",
      "anaconda\n"
     ]
    }
   ],
   "source": [
    "#EXERCISE 26\n",
    "\n",
    "text = \" les avengers avait fait des merveilles sur anaconda !\"\n",
    "\n",
    "text_new = text.split()\n",
    "\n",
    "for word in text_new:\n",
    "    if word[0] == \"a\":\n",
    "        print(word)\n",
    "\n"
   ]
  },
  {
   "cell_type": "code",
   "execution_count": 135,
   "id": "bdc252a8-b16c-44a4-8dba-e02b0c5de843",
   "metadata": {},
   "outputs": [
    {
     "name": "stdout",
     "output_type": "stream",
     "text": [
      "Sum : 28\n",
      "Multiply : 5040\n"
     ]
    }
   ],
   "source": [
    "#EXERCISE 27\n",
    "\n",
    "def sum_num():\n",
    "    sum = 0\n",
    "    numbers = [1,2,3,4,5,6,7]\n",
    "    for i in numbers:\n",
    "        sum += i\n",
    "    return sum\n",
    "\n",
    "def multiply():\n",
    "    sum = 1\n",
    "    numbers = [1,2,3,4,5,6,7]\n",
    "    for i in numbers:\n",
    "        sum *= i\n",
    "    return sum\n",
    "\n",
    "sumation = sum_num()\n",
    "print(f\"Sum : {sumation}\")\n",
    "multi = multiply()\n",
    "print(f\"Multiply : {multi}\")\n",
    "\n"
   ]
  },
  {
   "cell_type": "code",
   "execution_count": 169,
   "id": "3e19ea81-1e94-4bad-84c6-b46be0f1ca8e",
   "metadata": {},
   "outputs": [
    {
     "name": "stdout",
     "output_type": "stream",
     "text": [
      "It is empty !\n"
     ]
    }
   ],
   "source": [
    "#EXERCISE 28\n",
    "\n",
    "liste = \"\"\n",
    "if len(liste) == 0:\n",
    "    print(\"It is empty !\")\n",
    "else:\n",
    "    for i in liste:\n",
    "        print(i)\n",
    "\n"
   ]
  },
  {
   "cell_type": "code",
   "execution_count": 187,
   "id": "b586cf4f-03db-4e9a-a4cd-18c15b952ded",
   "metadata": {},
   "outputs": [
    {
     "name": "stdout",
     "output_type": "stream",
     "text": [
      "8\n",
      ": 1\n",
      ": 1\n",
      ": 2\n",
      ": 2\n"
     ]
    }
   ],
   "source": [
    "#EXERCISE 29\n",
    "\n",
    "text = [1,1,2,2,8]\n",
    "\n",
    "len(text)\n",
    "\n",
    "u = text.pop()\n",
    "\n",
    "print(u)\n",
    "\n",
    "for i in text:\n",
    "    print(f\": {i}\")\n",
    "\n"
   ]
  },
  {
   "cell_type": "code",
   "execution_count": 203,
   "id": "39436f00-daa5-4a45-90d7-e8429f3f229b",
   "metadata": {},
   "outputs": [
    {
     "name": "stdout",
     "output_type": "stream",
     "text": [
      "3\n",
      "4\n",
      "5\n"
     ]
    }
   ],
   "source": [
    "#EXERCISE 30\n",
    "\n",
    "liste1=[1,2,3,4,5]\n",
    "liste2=[3,4,5,6]\n",
    "liste3=[]\n",
    "\n",
    "for i in liste1:\n",
    "    for j in liste2:\n",
    "        if i==j:\n",
    "            liste3.append(i)\n",
    "\n",
    "for i in liste3:\n",
    "    print(i)\n",
    "\n",
    "    \n"
   ]
  },
  {
   "cell_type": "code",
   "execution_count": 213,
   "id": "6cb0b1ab-1a9b-4923-b976-2b818ec3ffeb",
   "metadata": {},
   "outputs": [
    {
     "name": "stdout",
     "output_type": "stream",
     "text": [
      "[2, 4, 6, 8, 10]\n",
      "[1, 3, 5, 7, 9]\n"
     ]
    }
   ],
   "source": [
    "#EXERCISE 31\n",
    "liste1=[1,2,3,4,5,6,7,8,9,10]\n",
    "liste3=[]\n",
    "\n",
    "for i in liste1:\n",
    "    if i%2==0:\n",
    "        liste3.append(i)\n",
    "        liste1.remove(i)\n",
    "    else:\n",
    "        liste3.append(i)\n",
    "        liste1.remove(i)\n",
    "print(liste1)\n",
    "print(liste3)\n",
    "    \n",
    "\n"
   ]
  },
  {
   "cell_type": "code",
   "execution_count": 231,
   "id": "4dc051dd-a85e-4421-af7c-8684a0bbf0e2",
   "metadata": {},
   "outputs": [
    {
     "name": "stdout",
     "output_type": "stream",
     "text": [
      "p\n",
      "t\n",
      "o\n"
     ]
    }
   ],
   "source": [
    "#EXERCISE 33\n",
    "\n",
    "li = \"python\"\n",
    "\n",
    "for i in li:\n",
    "    \n",
    "    ind = li.rindex(i)\n",
    "    if ind%2==0:\n",
    "        print(f\"{li[ind]}\")\n",
    "\n",
    "\n",
    "\n",
    "\n"
   ]
  },
  {
   "cell_type": "code",
   "execution_count": 237,
   "id": "270ef6b3-d5f7-42d7-944e-2c006acb4484",
   "metadata": {},
   "outputs": [
    {
     "name": "stdout",
     "output_type": "stream",
     "text": [
      "[12, 4, 14, 11, 18, 13, 7, 10, 5, 9, 15, 8, 14, 16]\n",
      "[12, 14, 11, 18, 13, 10, 15, 14, 16]\n"
     ]
    }
   ],
   "source": [
    "#EXERCISE 34\n",
    "\n",
    "notes = [12,4,14,11,18,13,7,10,5,9,15,8,14,16]\n",
    "\n",
    "new_notes = []\n",
    "\n",
    "for items in notes:\n",
    "    if items>=10:\n",
    "        new_notes.append(items)\n",
    "        if new_notes.count() >1:\n",
    "            \n",
    "        #notes.remove(items)\n",
    "\n",
    "print(notes)\n",
    "print(new_notes)"
   ]
  },
  {
   "cell_type": "code",
   "execution_count": 253,
   "id": "17c1b5ea-a20f-4fda-a626-c2966b0ce0c6",
   "metadata": {},
   "outputs": [
    {
     "name": "stdout",
     "output_type": "stream",
     "text": [
      "https://example.com/salut/mec\n"
     ]
    }
   ],
   "source": [
    "#EXERCISE 35\n",
    "import urllib.parse\n",
    "\n",
    "text=\"/salut/mec\"\n",
    "base=\"https://example.com\"\n",
    "url=urllib.parse.urljoin(base, text)\n",
    "\n",
    "\n",
    "# domain = \"yobro.com\"\n",
    "# chemin = \"/bonjour/amis\"\n",
    "# url = f\"https://{domain}{chemin}\"\n",
    "\n",
    "print(url)"
   ]
  },
  {
   "cell_type": "code",
   "execution_count": 275,
   "id": "ef24563e-b569-4b9f-add4-6eb4d505cfae",
   "metadata": {},
   "outputs": [
    {
     "name": "stdout",
     "output_type": "stream",
     "text": [
      "helloiamJacques\n"
     ]
    }
   ],
   "source": [
    "#EXERCISE 36\n",
    "\n",
    "text = \"hello i am Jacques\"\n",
    "\n",
    "print(\"\".join(text.split()))\n"
   ]
  },
  {
   "cell_type": "code",
   "execution_count": 285,
   "id": "068d949d-de13-4246-8436-7667f9c9e0bb",
   "metadata": {},
   "outputs": [
    {
     "name": "stdout",
     "output_type": "stream",
     "text": [
      "['hello', 'salut']\n"
     ]
    }
   ],
   "source": [
    "#EXERCISE 37\n",
    "\n",
    "s1=\"hello bro salut mec\"\n",
    "s2=\"hello frere salut poto\"\n",
    "s3 = []\n",
    "\n",
    "for i in s1.split():\n",
    "    for j in s2.split():\n",
    "        if i == j:\n",
    "            s3.append(i)\n",
    "\n",
    "print(s3)\n",
    "\n"
   ]
  },
  {
   "cell_type": "code",
   "execution_count": 401,
   "id": "7449f17a-c0e9-4beb-91a1-4c0fccfde7a4",
   "metadata": {},
   "outputs": [
    {
     "name": "stdout",
     "output_type": "stream",
     "text": [
      "['charismatique']\n"
     ]
    }
   ],
   "source": [
    "#EXERCISE 38\n",
    "\n",
    "\n",
    "# def mot_long(text):\n",
    "#     maxi = 0\n",
    "\n",
    "text = \" la folie avec les gens belle cest que elle joue au charismatique \"\n",
    "maxi = 0\n",
    "text1 = []\n",
    "for letter in text.split():\n",
    "    if maxi < len(letter):\n",
    "        maxi = len(letter)\n",
    "        text1.clear()\n",
    "        text1.append(letter)\n",
    "    \n",
    "        \n",
    "\n",
    "print(text1)\n",
    "\n",
    "\n",
    "# mot_long(text)\n",
    "        \n",
    "    \n"
   ]
  },
  {
   "cell_type": "code",
   "execution_count": 409,
   "id": "48658861-0194-4fd8-aadd-bf18e4d44dcb",
   "metadata": {},
   "outputs": [
    {
     "name": "stdout",
     "output_type": "stream",
     "text": [
      "5\n"
     ]
    }
   ],
   "source": [
    "# EXERCISE 39\n",
    "\n",
    "text = \"hello bro. whats'up, sdkw entre-temps\"\n",
    "\n",
    "count = 0\n",
    "for i in text.split():\n",
    "    count += 1\n",
    "\n",
    "print(count)"
   ]
  },
  {
   "cell_type": "code",
   "execution_count": 511,
   "id": "b09a93f1-f25a-4dac-afd7-476ed9bb2ec5",
   "metadata": {},
   "outputs": [
    {
     "name": "stdout",
     "output_type": "stream",
     "text": [
      "Programmation est en language de Programmation\n",
      "['Pyhton', 'est', 'en', 'language', 'de']\n"
     ]
    }
   ],
   "source": [
    "# EXERCISE 40\n",
    "\n",
    "text=\"Pyhton est en language de Programmation\"\n",
    "t1 = text.split()\n",
    "i1 = text.split()[0]\n",
    "i2 = text.split()[len(text.split()) - 1]\n",
    "\n",
    "text.replace(i1, i2)\n",
    "\n",
    "t1.pop()\n",
    "print(t1)\n",
    "# t1.append(i2)\n",
    "# print(t1)\n",
    "# print(i2)\n",
    "# text.replace(i2, i1)\n",
    "\n",
    "\n",
    "# t1 = text.split()\n",
    "# t2 = t1[0]\n",
    "\n",
    "# text.replace(t1[0], t1[len(text.split()) - 1])\n",
    "# t1.pop()\n",
    "# print(t1)\n",
    "# t1.append(t2)\n",
    "# print(t1)\n",
    "\n",
    "\n",
    "    \n",
    "        \n",
    "    \n"
   ]
  },
  {
   "cell_type": "code",
   "execution_count": 527,
   "id": "d930d1f6-4d8e-4b5f-b535-bfc1ec9180b4",
   "metadata": {},
   "outputs": [
    {
     "name": "stdout",
     "output_type": "stream",
     "text": [
      "4\n"
     ]
    }
   ],
   "source": [
    "#EXERCISE 41\n",
    "\n",
    "liste = [2,4,5,7,8,9,20]\n",
    "\n",
    "def nombreDivisible(n):\n",
    "    count = 0\n",
    "    for i in liste:\n",
    "        if i%n == 0:\n",
    "            count += 1\n",
    "    return count\n",
    "\n",
    "n = 2\n",
    "\n",
    "ans = nombreDivisible(n)\n",
    "print(ans)"
   ]
  },
  {
   "cell_type": "code",
   "execution_count": 545,
   "id": "e7a79de2-0526-4b7c-bf4a-ee4f857030f3",
   "metadata": {},
   "outputs": [
    {
     "name": "stdout",
     "output_type": "stream",
     "text": [
      "5\n"
     ]
    }
   ],
   "source": [
    "# EXERCISE 42\n",
    "\n",
    "L = [1,3,4,3,3,3,3,6,7,8,9,66,10]\n",
    "\n",
    "def nombreOccurence(x):\n",
    "    count =0\n",
    "    for i in L:\n",
    "        if x == i:\n",
    "            count += 1\n",
    "    return count\n",
    "\n",
    "ans = nombreOccurence(3)\n",
    "\n",
    "print(ans)\n",
    "    \n",
    "    \n"
   ]
  },
  {
   "cell_type": "code",
   "execution_count": 621,
   "id": "6f1eadfe-262c-4dae-8e85-c1cb5d3b3825",
   "metadata": {},
   "outputs": [
    {
     "name": "stdout",
     "output_type": "stream",
     "text": [
      "p*y*t*h*o*n\n"
     ]
    }
   ],
   "source": [
    "#EXERCISE 43\n",
    "\n",
    "def insertEtoile(word):\n",
    "    word = \"*\".join(word)\n",
    "    return word\n",
    "    # word = list(word)\n",
    "    # for i in range(len(word)):\n",
    "    #     if word.index(word[i])%2 != 0:\n",
    "    #         word[word.index(word[i])] = \"*\" \n",
    "    #     new_word = \"\".join(word)\n",
    "\n",
    "    # return new_word\n",
    "\n",
    "s = \"python\"\n",
    "\n",
    "\n",
    "a = insertEtoile(s)\n",
    "print(a)"
   ]
  },
  {
   "cell_type": "code",
   "execution_count": 631,
   "id": "e8f54944-8edf-4b09-868a-fe88b38b854b",
   "metadata": {},
   "outputs": [
    {
     "name": "stdout",
     "output_type": "stream",
     "text": [
      "['PYTHON', 'EST', 'UN', 'LANGUAGE', 'DE', 'PROGRAMMATION']\n"
     ]
    }
   ],
   "source": [
    "#EXERCISE 44\n",
    "\n",
    "def toutEnMajuscule(text):\n",
    "    t2 = text.split()\n",
    "    t3 = []\n",
    "    for i in t2:\n",
    "        t3.append(i.upper())\n",
    "    return t3\n",
    "\n",
    "text = \"python est un language de programmation\"\n",
    "s = toutEnMajuscule(text)\n",
    "print(s)\n",
    "    "
   ]
  },
  {
   "cell_type": "code",
   "execution_count": 641,
   "id": "c276e040-9159-43a6-8e7b-328ee9a47c39",
   "metadata": {},
   "outputs": [
    {
     "name": "stdout",
     "output_type": "stream",
     "text": [
      " Le text contien 33 lettre miniscule et 6 lettre de majiscule\n"
     ]
    }
   ],
   "source": [
    "#EXERCISE 45\n",
    "\n",
    "text = \"Python Est Un Language De Programmation\"\n",
    "def check(text):\n",
    "    maj=0\n",
    "    low=0\n",
    "    for i in text:\n",
    "        if i == i.lower():\n",
    "            low += 1\n",
    "        elif i == i.upper():\n",
    "            maj += 1\n",
    "    return print(f\" Le text contien {low} lettre miniscule et {maj} lettre de majiscule\")  \n",
    "\n",
    "check(text)\n",
    "\n",
    "\n"
   ]
  },
  {
   "cell_type": "code",
   "execution_count": null,
   "id": "988ff45e-e5a8-45c9-82be-ac2c89740852",
   "metadata": {
    "scrolled": true
   },
   "outputs": [],
   "source": [
    "#EXERCISE 46\n",
    "L = []\n",
    "\n",
    "def chiffre(nombre):\n",
    "    while nombre != 0:\n",
    "        digit = nombre%10\n",
    "        nombre /= 10\n",
    "        L.append(digit)\n",
    "    L.reverse()\n",
    "    return L\n",
    "\n",
    "ans = chiffre(1266)\n",
    "print(ans)\n",
    "\n"
   ]
  },
  {
   "cell_type": "code",
   "execution_count": 3,
   "id": "2cd3bb0c-4c85-44fd-8973-4d63134b74fb",
   "metadata": {},
   "outputs": [
    {
     "name": "stdout",
     "output_type": "stream",
     "text": [
      "['python', 'est', 'language']\n"
     ]
    }
   ],
   "source": [
    "#EXERCISE 47\n",
    "\n",
    "L=\"python est un language de programmation\"\n",
    "l=\"le language python est bien\"\n",
    "\n",
    "def commun(L,l):\n",
    "    R=[]\n",
    "    L1=L.split()\n",
    "    l1=l.split()\n",
    "    for i in L1:\n",
    "        for j in l1:\n",
    "            if i == j:\n",
    "                R.append(i)\n",
    "    return R\n",
    "\n",
    "ans = commun(L, l)\n",
    "print(ans)\n"
   ]
  },
  {
   "cell_type": "code",
   "execution_count": null,
   "id": "f06336ad-3021-4ffe-867f-3709af9dacf6",
   "metadata": {},
   "outputs": [],
   "source": []
  }
 ],
 "metadata": {
  "kernelspec": {
   "display_name": "Python 3 (ipykernel)",
   "language": "python",
   "name": "python3"
  },
  "language_info": {
   "codemirror_mode": {
    "name": "ipython",
    "version": 3
   },
   "file_extension": ".py",
   "mimetype": "text/x-python",
   "name": "python",
   "nbconvert_exporter": "python",
   "pygments_lexer": "ipython3",
   "version": "3.12.7"
  }
 },
 "nbformat": 4,
 "nbformat_minor": 5
}
